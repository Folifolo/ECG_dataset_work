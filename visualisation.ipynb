{
 "cells": [
  {
   "cell_type": "code",
   "execution_count": null,
   "metadata": {},
   "outputs": [
    {
     "name": "stdout",
     "output_type": "stream",
     "text": [
      "строим табличку pandas по коллекции файлов из C:\\ecg\n",
      "в папке C:\\ecg найдено пациентов: 410\n",
      "(файлы .edf на валидность не проверялись)\n",
      "P_WAVE\n"
     ]
    },
    {
     "data": {
      "text/html": [
       "<table border=\"1\" class=\"dataframe\">\n",
       "  <thead>\n",
       "    <tr style=\"text-align: right;\">\n",
       "      <th></th>\n",
       "      <th>extension_left_atrium</th>\n",
       "      <th>extension_right_atrium</th>\n",
       "      <th>expansion_both_atria</th>\n",
       "    </tr>\n",
       "  </thead>\n",
       "  <tbody>\n",
       "    <tr>\n",
       "      <th>0</th>\n",
       "      <td>177</td>\n",
       "      <td>401</td>\n",
       "      <td>393</td>\n",
       "    </tr>\n",
       "    <tr>\n",
       "      <th>1</th>\n",
       "      <td>233</td>\n",
       "      <td>9</td>\n",
       "      <td>17</td>\n",
       "    </tr>\n",
       "  </tbody>\n",
       "</table>"
      ],
      "text/plain": [
       "<IPython.core.display.HTML object>"
      ]
     },
     "metadata": {},
     "output_type": "execute_result"
    },
    {
     "name": "stdout",
     "output_type": "stream",
     "text": [
      "IMPAIRED_T_WAVE\n"
     ]
    },
    {
     "data": {
      "text/html": [
       "<table border=\"1\" class=\"dataframe\">\n",
       "  <thead>\n",
       "    <tr style=\"text-align: right;\">\n",
       "      <th></th>\n",
       "      <th>impaired_T_wave_lead_i</th>\n",
       "      <th>impaired_T_wave_lead_ii</th>\n",
       "      <th>impaired_T_wave_lead_iii</th>\n",
       "      <th>impaired_T_wave_lead_avr</th>\n",
       "      <th>impaired_T_wave_lead_avl</th>\n",
       "      <th>impaired_T_wave_lead_avf</th>\n",
       "      <th>impaired_T_wave_lead_v1</th>\n",
       "      <th>impaired_T_wave_lead_v2</th>\n",
       "      <th>impaired_T_wave_lead_v3</th>\n",
       "      <th>impaired_T_wave_lead_v4</th>\n",
       "      <th>impaired_T_wave_lead_v5</th>\n",
       "      <th>impaired_T_wave_lead_v6</th>\n",
       "    </tr>\n",
       "  </thead>\n",
       "  <tbody>\n",
       "    <tr>\n",
       "      <th>0</th>\n",
       "      <td>369</td>\n",
       "      <td>370</td>\n",
       "      <td>322</td>\n",
       "      <td>410.0</td>\n",
       "      <td>341</td>\n",
       "      <td>329</td>\n",
       "      <td>410.0</td>\n",
       "      <td>362</td>\n",
       "      <td>359</td>\n",
       "      <td>359</td>\n",
       "      <td>353</td>\n",
       "      <td>356</td>\n",
       "    </tr>\n",
       "    <tr>\n",
       "      <th>1</th>\n",
       "      <td>41</td>\n",
       "      <td>40</td>\n",
       "      <td>88</td>\n",
       "      <td>NaN</td>\n",
       "      <td>69</td>\n",
       "      <td>81</td>\n",
       "      <td>NaN</td>\n",
       "      <td>48</td>\n",
       "      <td>51</td>\n",
       "      <td>51</td>\n",
       "      <td>57</td>\n",
       "      <td>54</td>\n",
       "    </tr>\n",
       "  </tbody>\n",
       "</table>"
      ],
      "text/plain": [
       "<IPython.core.display.HTML object>"
      ]
     },
     "metadata": {},
     "output_type": "execute_result"
    },
    {
     "name": "stdout",
     "output_type": "stream",
     "text": [
      "EXTRASYSTOLES\n"
     ]
    },
    {
     "data": {
      "text/html": [
       "<table border=\"1\" class=\"dataframe\">\n",
       "  <thead>\n",
       "    <tr style=\"text-align: right;\">\n",
       "      <th></th>\n",
       "      <th>atrial</th>\n",
       "      <th>nodal</th>\n",
       "      <th>ventricular</th>\n",
       "    </tr>\n",
       "  </thead>\n",
       "  <tbody>\n",
       "    <tr>\n",
       "      <th>0</th>\n",
       "      <td>397</td>\n",
       "      <td>410.0</td>\n",
       "      <td>401</td>\n",
       "    </tr>\n",
       "    <tr>\n",
       "      <th>1</th>\n",
       "      <td>13</td>\n",
       "      <td>NaN</td>\n",
       "      <td>9</td>\n",
       "    </tr>\n",
       "  </tbody>\n",
       "</table>"
      ],
      "text/plain": [
       "<IPython.core.display.HTML object>"
      ]
     },
     "metadata": {},
     "output_type": "execute_result"
    },
    {
     "name": "stdout",
     "output_type": "stream",
     "text": [
      "PACING\n"
     ]
    },
    {
     "data": {
      "text/html": [
       "<table border=\"1\" class=\"dataframe\">\n",
       "  <thead>\n",
       "    <tr style=\"text-align: right;\">\n",
       "      <th></th>\n",
       "      <th>atrial_Stimulation</th>\n",
       "      <th>stimulation_ventricles</th>\n",
       "      <th>impairment_stimulation</th>\n",
       "    </tr>\n",
       "  </thead>\n",
       "  <tbody>\n",
       "    <tr>\n",
       "      <th>0</th>\n",
       "      <td>408</td>\n",
       "      <td>392</td>\n",
       "      <td>410.0</td>\n",
       "    </tr>\n",
       "    <tr>\n",
       "      <th>1</th>\n",
       "      <td>2</td>\n",
       "      <td>18</td>\n",
       "      <td>NaN</td>\n",
       "    </tr>\n",
       "  </tbody>\n",
       "</table>"
      ],
      "text/plain": [
       "<IPython.core.display.HTML object>"
      ]
     },
     "metadata": {},
     "output_type": "execute_result"
    },
    {
     "name": "stdout",
     "output_type": "stream",
     "text": [
      "STATES\n"
     ]
    },
    {
     "data": {
      "text/html": [
       "<table border=\"1\" class=\"dataframe\">\n",
       "  <thead>\n",
       "    <tr style=\"text-align: right;\">\n",
       "      <th></th>\n",
       "      <th>intoxication_cardiac_glycosides</th>\n",
       "      <th>embolism_pulmonary_artery</th>\n",
       "    </tr>\n",
       "  </thead>\n",
       "  <tbody>\n",
       "    <tr>\n",
       "      <th>0</th>\n",
       "      <td>410</td>\n",
       "      <td>410</td>\n",
       "    </tr>\n",
       "  </tbody>\n",
       "</table>"
      ],
      "text/plain": [
       "<IPython.core.display.HTML object>"
      ]
     },
     "metadata": {},
     "output_type": "execute_result"
    },
    {
     "name": "stdout",
     "output_type": "stream",
     "text": [
      "ELECTRIC_AXIS\n"
     ]
    },
    {
     "data": {
      "text/html": [
       "<table border=\"1\" class=\"dataframe\">\n",
       "  <thead>\n",
       "    <tr style=\"text-align: right;\">\n",
       "      <th></th>\n",
       "      <th>vertical</th>\n",
       "      <th>horizontal</th>\n",
       "      <th>normal</th>\n",
       "      <th>deviation_left</th>\n",
       "      <th>sharp_left_deviation</th>\n",
       "      <th>deviation_right</th>\n",
       "      <th>sharp_right_deviation</th>\n",
       "    </tr>\n",
       "  </thead>\n",
       "  <tbody>\n",
       "    <tr>\n",
       "      <th>0</th>\n",
       "      <td>383</td>\n",
       "      <td>354</td>\n",
       "      <td>233</td>\n",
       "      <td>282</td>\n",
       "      <td>410.0</td>\n",
       "      <td>406</td>\n",
       "      <td>410.0</td>\n",
       "    </tr>\n",
       "    <tr>\n",
       "      <th>1</th>\n",
       "      <td>27</td>\n",
       "      <td>56</td>\n",
       "      <td>177</td>\n",
       "      <td>128</td>\n",
       "      <td>NaN</td>\n",
       "      <td>4</td>\n",
       "      <td>NaN</td>\n",
       "    </tr>\n",
       "  </tbody>\n",
       "</table>"
      ],
      "text/plain": [
       "<IPython.core.display.HTML object>"
      ]
     },
     "metadata": {},
     "output_type": "execute_result"
    },
    {
     "name": "stdout",
     "output_type": "stream",
     "text": [
      "BLOCKADE\n"
     ]
    },
    {
     "data": {
      "text/html": [
       "<table border=\"1\" class=\"dataframe\">\n",
       "  <thead>\n",
       "    <tr style=\"text-align: right;\">\n",
       "      <th></th>\n",
       "      <th>CA_blockade</th>\n",
       "      <th>AV_blockade_I_st</th>\n",
       "      <th>AV_blockade_II_st_1_type</th>\n",
       "      <th>AV_blockade_II_st_2_type</th>\n",
       "      <th>AV_blockade_III_st</th>\n",
       "      <th>AV_dissociation</th>\n",
       "    </tr>\n",
       "  </thead>\n",
       "  <tbody>\n",
       "    <tr>\n",
       "      <th>0</th>\n",
       "      <td>410.0</td>\n",
       "      <td>391</td>\n",
       "      <td>409</td>\n",
       "      <td>410.0</td>\n",
       "      <td>410.0</td>\n",
       "      <td>410.0</td>\n",
       "    </tr>\n",
       "    <tr>\n",
       "      <th>1</th>\n",
       "      <td>NaN</td>\n",
       "      <td>19</td>\n",
       "      <td>1</td>\n",
       "      <td>NaN</td>\n",
       "      <td>NaN</td>\n",
       "      <td>NaN</td>\n",
       "    </tr>\n",
       "  </tbody>\n",
       "</table>"
      ],
      "text/plain": [
       "<IPython.core.display.HTML object>"
      ]
     },
     "metadata": {},
     "output_type": "execute_result"
    },
    {
     "name": "stdout",
     "output_type": "stream",
     "text": [
      "без категории\n"
     ]
    },
    {
     "data": {
      "text/html": [
       "<table border=\"1\" class=\"dataframe\">\n",
       "  <thead>\n",
       "    <tr style=\"text-align: right;\">\n",
       "      <th></th>\n",
       "      <th>shortened_PQ</th>\n",
       "      <th>elongated_PQ</th>\n",
       "    </tr>\n",
       "  </thead>\n",
       "  <tbody>\n",
       "    <tr>\n",
       "      <th>0</th>\n",
       "      <td>410.0</td>\n",
       "      <td>409</td>\n",
       "    </tr>\n",
       "    <tr>\n",
       "      <th>1</th>\n",
       "      <td>NaN</td>\n",
       "      <td>1</td>\n",
       "    </tr>\n",
       "  </tbody>\n",
       "</table>"
      ],
      "text/plain": [
       "<IPython.core.display.HTML object>"
      ]
     },
     "metadata": {},
     "output_type": "execute_result"
    },
    {
     "name": "stdout",
     "output_type": "stream",
     "text": [
      "SINUS_RHYTHM\n"
     ]
    },
    {
     "data": {
      "text/html": [
       "<table border=\"1\" class=\"dataframe\">\n",
       "  <thead>\n",
       "    <tr style=\"text-align: right;\">\n",
       "      <th></th>\n",
       "      <th>regular_normosystole</th>\n",
       "      <th>sinus_tachycardia</th>\n",
       "      <th>sinus_bradycardia</th>\n",
       "      <th>sinus_arrhythmia</th>\n",
       "    </tr>\n",
       "  </thead>\n",
       "  <tbody>\n",
       "    <tr>\n",
       "      <th>0</th>\n",
       "      <td>135</td>\n",
       "      <td>401</td>\n",
       "      <td>365</td>\n",
       "      <td>393</td>\n",
       "    </tr>\n",
       "    <tr>\n",
       "      <th>1</th>\n",
       "      <td>275</td>\n",
       "      <td>9</td>\n",
       "      <td>45</td>\n",
       "      <td>17</td>\n",
       "    </tr>\n",
       "  </tbody>\n",
       "</table>"
      ],
      "text/plain": [
       "<IPython.core.display.HTML object>"
      ]
     },
     "metadata": {},
     "output_type": "execute_result"
    },
    {
     "name": "stdout",
     "output_type": "stream",
     "text": [
      "QT_INTERVAL\n"
     ]
    },
    {
     "data": {
      "text/html": [
       "<table border=\"1\" class=\"dataframe\">\n",
       "  <thead>\n",
       "    <tr style=\"text-align: right;\">\n",
       "      <th></th>\n",
       "      <th>extended_QT_interval</th>\n",
       "      <th>shortened_QT_interval</th>\n",
       "    </tr>\n",
       "  </thead>\n",
       "  <tbody>\n",
       "    <tr>\n",
       "      <th>0</th>\n",
       "      <td>409</td>\n",
       "      <td>410.0</td>\n",
       "    </tr>\n",
       "    <tr>\n",
       "      <th>1</th>\n",
       "      <td>1</td>\n",
       "      <td>NaN</td>\n",
       "    </tr>\n",
       "  </tbody>\n",
       "</table>"
      ],
      "text/plain": [
       "<IPython.core.display.HTML object>"
      ]
     },
     "metadata": {},
     "output_type": "execute_result"
    },
    {
     "name": "stdout",
     "output_type": "stream",
     "text": [
      "INCORRECT_RHYTHM\n"
     ]
    },
    {
     "data": {
      "text/html": [
       "<table border=\"1\" class=\"dataframe\">\n",
       "  <thead>\n",
       "    <tr style=\"text-align: right;\">\n",
       "      <th></th>\n",
       "      <th>atrial_rhythm</th>\n",
       "      <th>atrial_fibrillation</th>\n",
       "      <th>atrial_flutter</th>\n",
       "      <th>atrioventricular_nodal_tachycardia</th>\n",
       "      <th>supraventricular_tachycardia</th>\n",
       "      <th>WPW_syndrome</th>\n",
       "      <th>ventricular_tachycardia</th>\n",
       "      <th>tachycardia_pirouette</th>\n",
       "      <th>nodal_rhythm</th>\n",
       "    </tr>\n",
       "  </thead>\n",
       "  <tbody>\n",
       "    <tr>\n",
       "      <th>0</th>\n",
       "      <td>409</td>\n",
       "      <td>375</td>\n",
       "      <td>397</td>\n",
       "      <td>409</td>\n",
       "      <td>410.0</td>\n",
       "      <td>409</td>\n",
       "      <td>410.0</td>\n",
       "      <td>410.0</td>\n",
       "      <td>410.0</td>\n",
       "    </tr>\n",
       "    <tr>\n",
       "      <th>1</th>\n",
       "      <td>1</td>\n",
       "      <td>35</td>\n",
       "      <td>13</td>\n",
       "      <td>1</td>\n",
       "      <td>NaN</td>\n",
       "      <td>1</td>\n",
       "      <td>NaN</td>\n",
       "      <td>NaN</td>\n",
       "      <td>NaN</td>\n",
       "    </tr>\n",
       "  </tbody>\n",
       "</table>"
      ],
      "text/plain": [
       "<IPython.core.display.HTML object>"
      ]
     },
     "metadata": {},
     "output_type": "execute_result"
    }
   ],
   "source": [
    "from IPython.display import display, HTML\n",
    "import matplotlib.pyplot as plt\n",
    "import pandas as pd\n",
    "from raw_dataset_to_pandas_frame import get_pandas_dataframe\n",
    "\n",
    "folder_with_files = 'C:\\\\ecg'  # путь к папке с исходными файлами .edf, .json\n",
    "df = get_pandas_dataframe(folder_with_files)\n",
    "\n",
    "categories = {}\n",
    "categories['SINUS_RHYTHM'] =  [\"regular_normosystole\", \"sinus_tachycardia\", \"sinus_bradycardia\", \"sinus_arrhythmia\"]\n",
    "categories['INCORRECT_RHYTHM'] = [\"atrial_rhythm\", \"atrial_fibrillation\", \"atrial_flutter\", \"atrioventricular_nodal_tachycardia\", \"supraventricular_tachycardia\", \"WPW_syndrome\", \"ventricular_tachycardia\", \"tachycardia_pirouette\", \"nodal_rhythm\"]\n",
    "categories['EXTRASYSTOLES'] = ['atrial', 'nodal', 'ventricular']\n",
    "categories['BLOCKADE'] = ['CA_blockade', 'AV_blockade_I_st', 'AV_blockade_II_st_1_type', 'AV_blockade_II_st_2_type', 'AV_blockade_III_st', 'AV_dissociation']\n",
    "categories['P_WAVE'] = ['extension_left_atrium', 'extension_right_atrium', 'expansion_both_atria']\n",
    "categories['без категории'] = ['shortened_PQ', 'elongated_PQ']\n",
    "categories['ELECTRIC_AXIS'] = ['vertical', 'horizontal', 'normal', 'deviation_left', 'sharp_left_deviation', 'deviation_right', 'sharp_right_deviation']\n",
    "categories['IMPAIRED_T_WAVE'] = ['impaired_T_wave_lead_i', 'impaired_T_wave_lead_ii', 'impaired_T_wave_lead_iii', 'impaired_T_wave_lead_avr', 'impaired_T_wave_lead_avl', 'impaired_T_wave_lead_avf', 'impaired_T_wave_lead_v1', 'impaired_T_wave_lead_v2', 'impaired_T_wave_lead_v3', 'impaired_T_wave_lead_v4', 'impaired_T_wave_lead_v5', 'impaired_T_wave_lead_v6'] \n",
    "categories['QT_INTERVAL'] = ['extended_QT_interval', 'shortened_QT_interval'] \n",
    "categories['STATES'] = ['intoxication_cardiac_glycosides', 'embolism_pulmonary_artery'] \n",
    "categories['PACING'] = ['atrial_Stimulation', 'stimulation_ventricles', 'impairment_stimulation']\n",
    "\n",
    "for category_name in categories.keys():\n",
    "    print (category_name) \n",
    "    list_of_diagnoses_in_category = categories[category_name]\n",
    "    df_category = df[list_of_diagnoses_in_category] \n",
    "    summary_on_category = df_category.apply(pd.value_counts)\n",
    "    display(HTML(summary_on_category.to_html()))"
   ]
  },
  {
   "cell_type": "code",
   "execution_count": 54,
   "metadata": {},
   "outputs": [
    {
     "name": "stdout",
     "output_type": "stream",
     "text": [
      "\n",
      " теперь категории с подкатегориями!\n",
      "\n",
      "\n",
      "\n",
      " ST_SEGMENT_DISORDERS = [MI_WITH_ST_LIFT, MI_WITH_ST_DEPRESSION, ISCHEMIA]\n",
      "\n",
      "ST_SEGMENT_DISORDERS -->>>>> MI_WITH_ST_LIFT\n"
     ]
    },
    {
     "data": {
      "text/html": [
       "<table border=\"1\" class=\"dataframe\">\n",
       "  <thead>\n",
       "    <tr style=\"text-align: right;\">\n",
       "      <th></th>\n",
       "      <th>MI_with_ST_lift_before_frontal</th>\n",
       "      <th>MI_with_ST_lift_front</th>\n",
       "      <th>MI_with_ST_lift_lower</th>\n",
       "      <th>MI_with_ST_lift_rear_wall</th>\n",
       "    </tr>\n",
       "  </thead>\n",
       "  <tbody>\n",
       "    <tr>\n",
       "      <th>0</th>\n",
       "      <td>405</td>\n",
       "      <td>396</td>\n",
       "      <td>408</td>\n",
       "      <td>406</td>\n",
       "    </tr>\n",
       "    <tr>\n",
       "      <th>1</th>\n",
       "      <td>5</td>\n",
       "      <td>14</td>\n",
       "      <td>2</td>\n",
       "      <td>4</td>\n",
       "    </tr>\n",
       "  </tbody>\n",
       "</table>"
      ],
      "text/plain": [
       "<IPython.core.display.HTML object>"
      ]
     },
     "metadata": {},
     "output_type": "execute_result"
    },
    {
     "name": "stdout",
     "output_type": "stream",
     "text": [
      "ST_SEGMENT_DISORDERS-->>>>>MI_WITH_ST_DEPRESSION\n"
     ]
    },
    {
     "data": {
      "text/html": [
       "<table border=\"1\" class=\"dataframe\">\n",
       "  <thead>\n",
       "    <tr style=\"text-align: right;\">\n",
       "      <th></th>\n",
       "      <th>MI_with_ST_depression_before_frontal</th>\n",
       "      <th>MI_with_ST_depression_front</th>\n",
       "      <th>MI_with_ST_depression_lower</th>\n",
       "      <th>MI_with_ST_depression_rear_wall</th>\n",
       "    </tr>\n",
       "  </thead>\n",
       "  <tbody>\n",
       "    <tr>\n",
       "      <th>0</th>\n",
       "      <td>410.0</td>\n",
       "      <td>406</td>\n",
       "      <td>408</td>\n",
       "      <td>408</td>\n",
       "    </tr>\n",
       "    <tr>\n",
       "      <th>1</th>\n",
       "      <td>NaN</td>\n",
       "      <td>4</td>\n",
       "      <td>2</td>\n",
       "      <td>2</td>\n",
       "    </tr>\n",
       "  </tbody>\n",
       "</table>"
      ],
      "text/plain": [
       "<IPython.core.display.HTML object>"
      ]
     },
     "metadata": {},
     "output_type": "execute_result"
    },
    {
     "name": "stdout",
     "output_type": "stream",
     "text": [
      "ST_SEGMENT_DISORDERS-->>>>>ISCHEMIA\n"
     ]
    },
    {
     "data": {
      "text/html": [
       "<table border=\"1\" class=\"dataframe\">\n",
       "  <thead>\n",
       "    <tr style=\"text-align: right;\">\n",
       "      <th></th>\n",
       "      <th>ischemia_before_frontal</th>\n",
       "      <th>ischemia_front</th>\n",
       "      <th>ischemia_lower</th>\n",
       "      <th>ischemia_rear_wall</th>\n",
       "    </tr>\n",
       "  </thead>\n",
       "  <tbody>\n",
       "    <tr>\n",
       "      <th>0</th>\n",
       "      <td>394</td>\n",
       "      <td>395</td>\n",
       "      <td>404</td>\n",
       "      <td>396</td>\n",
       "    </tr>\n",
       "    <tr>\n",
       "      <th>1</th>\n",
       "      <td>16</td>\n",
       "      <td>15</td>\n",
       "      <td>6</td>\n",
       "      <td>14</td>\n",
       "    </tr>\n",
       "  </tbody>\n",
       "</table>"
      ],
      "text/plain": [
       "<IPython.core.display.HTML object>"
      ]
     },
     "metadata": {},
     "output_type": "execute_result"
    },
    {
     "name": "stdout",
     "output_type": "stream",
     "text": [
      "QRS_COMPLEX_VIOLATIONS\n"
     ]
    },
    {
     "data": {
      "text/html": [
       "<table border=\"1\" class=\"dataframe\">\n",
       "  <thead>\n",
       "    <tr style=\"text-align: right;\">\n",
       "      <th></th>\n",
       "      <th>left_ventricular_hypertrophy</th>\n",
       "      <th>right_ventricular_hypertrophy</th>\n",
       "      <th>low_voltage_QRS</th>\n",
       "    </tr>\n",
       "  </thead>\n",
       "  <tbody>\n",
       "    <tr>\n",
       "      <th>0</th>\n",
       "      <td>170</td>\n",
       "      <td>399</td>\n",
       "      <td>402</td>\n",
       "    </tr>\n",
       "    <tr>\n",
       "      <th>1</th>\n",
       "      <td>240</td>\n",
       "      <td>11</td>\n",
       "      <td>8</td>\n",
       "    </tr>\n",
       "  </tbody>\n",
       "</table>"
      ],
      "text/plain": [
       "<IPython.core.display.HTML object>"
      ]
     },
     "metadata": {},
     "output_type": "execute_result"
    },
    {
     "name": "stdout",
     "output_type": "stream",
     "text": [
      "QRS_COMPLEX_VIOLATIONS -->>>> ABNORMALITIES_Q\n"
     ]
    },
    {
     "data": {
      "text/html": [
       "<table border=\"1\" class=\"dataframe\">\n",
       "  <thead>\n",
       "    <tr style=\"text-align: right;\">\n",
       "      <th></th>\n",
       "      <th>abnormalities_Q_before_frontal</th>\n",
       "      <th>abnormalities_Q_front</th>\n",
       "      <th>abnormalities_Q_anteroferra</th>\n",
       "      <th>abnormalities_Q_lower_wall</th>\n",
       "      <th>abnormalities_Q_right ventricle</th>\n",
       "      <th>abnormalities_Q_rear_wall</th>\n",
       "      <th>abnormalities_Q_lateral</th>\n",
       "    </tr>\n",
       "  </thead>\n",
       "  <tbody>\n",
       "    <tr>\n",
       "      <th>0</th>\n",
       "      <td>408</td>\n",
       "      <td>402</td>\n",
       "      <td>410.0</td>\n",
       "      <td>405</td>\n",
       "      <td>410.0</td>\n",
       "      <td>403</td>\n",
       "      <td>407</td>\n",
       "    </tr>\n",
       "    <tr>\n",
       "      <th>1</th>\n",
       "      <td>2</td>\n",
       "      <td>8</td>\n",
       "      <td>NaN</td>\n",
       "      <td>5</td>\n",
       "      <td>NaN</td>\n",
       "      <td>7</td>\n",
       "      <td>3</td>\n",
       "    </tr>\n",
       "  </tbody>\n",
       "</table>"
      ],
      "text/plain": [
       "<IPython.core.display.HTML object>"
      ]
     },
     "metadata": {},
     "output_type": "execute_result"
    },
    {
     "name": "stdout",
     "output_type": "stream",
     "text": [
      "QRS_COMPLEX_VIOLATIONS -->>>> BLOCKADE_BUNDLE_BRANCH_LEGS\n"
     ]
    },
    {
     "data": {
      "text/html": [
       "<table border=\"1\" class=\"dataframe\">\n",
       "  <thead>\n",
       "    <tr style=\"text-align: right;\">\n",
       "      <th></th>\n",
       "      <th>blockade_right_leg_bundle</th>\n",
       "      <th>incomplete_blockade_right_leg_bundle</th>\n",
       "      <th>blockade_anterior_branch_left_branch_bundle</th>\n",
       "      <th>blockade_posterior_branch_left_branch_bundle</th>\n",
       "      <th>blockade_left_bundle_branch_leg</th>\n",
       "      <th>incomplete_left_bundle_branch_blockade</th>\n",
       "      <th>blockade_both_legs_bundle</th>\n",
       "    </tr>\n",
       "  </thead>\n",
       "  <tbody>\n",
       "    <tr>\n",
       "      <th>0</th>\n",
       "      <td>396</td>\n",
       "      <td>364</td>\n",
       "      <td>378</td>\n",
       "      <td>410.0</td>\n",
       "      <td>400</td>\n",
       "      <td>401</td>\n",
       "      <td>410.0</td>\n",
       "    </tr>\n",
       "    <tr>\n",
       "      <th>1</th>\n",
       "      <td>14</td>\n",
       "      <td>46</td>\n",
       "      <td>32</td>\n",
       "      <td>NaN</td>\n",
       "      <td>10</td>\n",
       "      <td>9</td>\n",
       "      <td>NaN</td>\n",
       "    </tr>\n",
       "  </tbody>\n",
       "</table>"
      ],
      "text/plain": [
       "<IPython.core.display.HTML object>"
      ]
     },
     "metadata": {},
     "output_type": "execute_result"
    }
   ],
   "source": [
    "print (\"\\n теперь категории с подкатегориями!\\n\")\n",
    "supercats = {}\n",
    "supercats['QRS_COMPLEX_VIOLATIONS'] = ['left_ventricular_hypertrophy', 'right_ventricular_hypertrophy', 'low_voltage_QRS'] \n",
    "supercats['QRS_COMPLEX_VIOLATIONS -->>>> BLOCKADE_BUNDLE_BRANCH_LEGS'] = ['blockade_right_leg_bundle', 'incomplete_blockade_right_leg_bundle', 'blockade_anterior_branch_left_branch_bundle', 'blockade_posterior_branch_left_branch_bundle', 'blockade_left_bundle_branch_leg', 'incomplete_left_bundle_branch_blockade', 'blockade_both_legs_bundle']\n",
    "supercats['QRS_COMPLEX_VIOLATIONS -->>>> ABNORMALITIES_Q'] = ['abnormalities_Q_before_frontal', 'abnormalities_Q_front', 'abnormalities_Q_anteroferra', 'abnormalities_Q_lower_wall', 'abnormalities_Q_right ventricle', 'abnormalities_Q_rear_wall', 'abnormalities_Q_lateral' ] \n",
    "\n",
    "print (\"\\n\\n ST_SEGMENT_DISORDERS = [MI_WITH_ST_LIFT, MI_WITH_ST_DEPRESSION, ISCHEMIA]\\n\")\n",
    "supercats['ST_SEGMENT_DISORDERS -->>>>> MI_WITH_ST_LIFT'] = ['MI_with_ST_lift_before_frontal', 'MI_with_ST_lift_front', 'MI_with_ST_lift_lower', 'MI_with_ST_lift_rear_wall']\n",
    "supercats['ST_SEGMENT_DISORDERS-->>>>>MI_WITH_ST_DEPRESSION']  = ['MI_with_ST_depression_before_frontal', 'MI_with_ST_depression_front', 'MI_with_ST_depression_lower', 'MI_with_ST_depression_rear_wall'] \n",
    "supercats['ST_SEGMENT_DISORDERS-->>>>>ISCHEMIA'] = ['ischemia_before_frontal', 'ischemia_front', 'ischemia_lower', 'ischemia_rear_wall'] \n",
    "for category_name in supercats.keys():\n",
    "    print (category_name) \n",
    "    list_of_diagnoses_in_category = supercats[category_name]\n",
    "    df_category = df[list_of_diagnoses_in_category] \n",
    "    summary_on_category = df_category.apply(pd.value_counts)\n",
    "    display(HTML(summary_on_category.to_html()))"
   ]
  },
  {
   "cell_type": "code",
   "execution_count": null,
   "metadata": {},
   "outputs": [],
   "source": [
    ""
   ]
  }
 ],
 "metadata": {
  "kernelspec": {
   "display_name": "Python 3",
   "language": "python",
   "name": "python3"
  },
  "language_info": {
   "codemirror_mode": {
    "name": "ipython",
    "version": 3.0
   },
   "file_extension": ".py",
   "mimetype": "text/x-python",
   "name": "python",
   "nbconvert_exporter": "python",
   "pygments_lexer": "ipython3",
   "version": "3.5.4"
  }
 },
 "nbformat": 4,
 "nbformat_minor": 0
}