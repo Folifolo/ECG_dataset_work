{
 "cells": [
  {
   "cell_type": "code",
   "execution_count": null,
   "metadata": {
    "collapsed": true
   },
   "outputs": [],
   "source": [
    "import matplotlib.pyplot as plt\n",
    "import pandas as pd\n",
    "from raw_dataset_to_pandas_frame import get_pandas_dataframe\n",
    "\n",
    "folder_with_files = 'C:\\\\ecg'  # путь к папке с исходными файлами .edf, .json\n",
    "df = get_pandas_dataframe(folder_with_files)\n",
    "\n",
    "df2 = df[['normal', 'horizontal', 'vertical']]\n",
    "\n",
    "result = df2.apply(pd.value_counts)\n",
    "result"
   ]
  }
 ],
 "metadata": {
  "kernelspec": {
   "display_name": "Python 2",
   "language": "python",
   "name": "python2"
  },
  "language_info": {
   "codemirror_mode": {
    "name": "ipython",
    "version": 2.0
   },
   "file_extension": ".py",
   "mimetype": "text/x-python",
   "name": "python",
   "nbconvert_exporter": "python",
   "pygments_lexer": "ipython2",
   "version": "2.7.6"
  }
 },
 "nbformat": 4,
 "nbformat_minor": 0
}